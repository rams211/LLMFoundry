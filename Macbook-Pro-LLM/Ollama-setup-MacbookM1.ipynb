{
 "cells": [
  {
   "cell_type": "code",
   "execution_count": null,
   "id": "d22d7ac3-5125-4ef3-b80b-1b7c731addfa",
   "metadata": {
    "tags": []
   },
   "outputs": [],
   "source": [
    "pip install ollama"
   ]
  },
  {
   "cell_type": "code",
   "execution_count": null,
   "id": "290bdbf5-e8c3-43c4-9287-554cc9325562",
   "metadata": {
    "tags": []
   },
   "outputs": [],
   "source": [
    "import ollama"
   ]
  },
  {
   "cell_type": "code",
   "execution_count": null,
   "id": "05dc145c-ec0c-44ac-b655-dc60b2f82083",
   "metadata": {
    "tags": []
   },
   "outputs": [],
   "source": [
    "response = ollama.pull(model=\"llama2\")\n",
    "\n",
    "response"
   ]
  },
  {
   "cell_type": "code",
   "execution_count": null,
   "id": "50b067af-f03e-45bc-9bd4-90adc4605f87",
   "metadata": {
    "tags": []
   },
   "outputs": [],
   "source": [
    "response = ollama.pull(model=\"llama2\", stream=True)\n",
    "\n",
    "response"
   ]
  },
  {
   "cell_type": "code",
   "execution_count": null,
   "id": "7f1f46ce-2fcc-4cfd-b339-4b602a626d85",
   "metadata": {
    "tags": []
   },
   "outputs": [],
   "source": [
    "for val in response:\n",
    "    print(val)"
   ]
  },
  {
   "cell_type": "code",
   "execution_count": null,
   "id": "417ad46e-0f76-4846-838f-26cf122e2b8d",
   "metadata": {
    "tags": []
   },
   "outputs": [],
   "source": [
    "response = ollama.list()\n",
    "\n",
    "type(response)"
   ]
  },
  {
   "cell_type": "code",
   "execution_count": null,
   "id": "dfde1264-06b0-4758-a4ed-82aa2275c05d",
   "metadata": {
    "tags": []
   },
   "outputs": [],
   "source": [
    "for model in response[\"models\"]:\n",
    "    print(f\"Model : {model['name']:18s}, Parameters : {model['details']['parameter_size']}, Quantization : {model['details']['quantization_level']}\")\n"
   ]
  },
  {
   "cell_type": "code",
   "execution_count": null,
   "id": "d95c9c0f-c2ed-4214-842e-cc3db82f3343",
   "metadata": {
    "tags": []
   },
   "outputs": [],
   "source": [
    "response = ollama.generate(model=\"llama2\", prompt=\"Write a short paragraph introducing Microsoft.\")\n",
    "\n",
    "type(response)"
   ]
  },
  {
   "cell_type": "code",
   "execution_count": null,
   "id": "00f86b55-ff21-4bb9-9fba-55ad024cf08a",
   "metadata": {
    "tags": []
   },
   "outputs": [],
   "source": [
    "response.keys()\n"
   ]
  },
  {
   "cell_type": "code",
   "execution_count": null,
   "id": "a3887bc2-0568-44cd-b5f2-770b4a054344",
   "metadata": {
    "tags": []
   },
   "outputs": [],
   "source": [
    "print(response[\"response\"])\n"
   ]
  },
  {
   "cell_type": "code",
   "execution_count": null,
   "id": "8040659d-f900-42e8-b0e5-97e2e950c3db",
   "metadata": {
    "tags": []
   },
   "outputs": [],
   "source": [
    "response = ollama.generate(model=\"llama2\",\n",
    "                           system=\"Act as if you are a small business owner.\",\n",
    "                           prompt=\"Write a short paragraph introducing microsoft and how it is useful for your business.\")\n",
    "\n",
    "print(response[\"response\"])"
   ]
  },
  {
   "cell_type": "code",
   "execution_count": null,
   "id": "c9ef0d9c-a397-4450-aa32-19970a95dab5",
   "metadata": {
    "tags": []
   },
   "outputs": [],
   "source": [
    "response = ollama.generate(model=\"llama2\",\n",
    "                           stream=True,\n",
    "                           prompt=\"Write a short paragraph introducing Microsoft.\")\n",
    "\n",
    "response"
   ]
  },
  {
   "cell_type": "code",
   "execution_count": null,
   "id": "91cc736c-03f7-464e-9b76-dc881af7a700",
   "metadata": {
    "tags": []
   },
   "outputs": [],
   "source": [
    "for token in response:\n",
    "    print(token)"
   ]
  },
  {
   "cell_type": "code",
   "execution_count": null,
   "id": "c507fae4-be21-4d73-bc1a-ef0381617bd1",
   "metadata": {
    "tags": []
   },
   "outputs": [],
   "source": [
    "response = ollama.generate(model=\"llama2\",\n",
    "                           stream=True,\n",
    "                           prompt=\"Write a short paragraph introducing Microsoft.\")\n",
    "\n",
    "tokens = [token[\"response\"] for token in response]\n",
    "\n",
    "print(tokens[:10])"
   ]
  },
  {
   "cell_type": "code",
   "execution_count": null,
   "id": "48cc9a79-308a-4d75-9aad-a97dc771b1ef",
   "metadata": {
    "tags": []
   },
   "outputs": [],
   "source": [
    "print(\"\".join(tokens))\n"
   ]
  },
  {
   "cell_type": "code",
   "execution_count": null,
   "id": "a92e4293-a9c6-4289-a1fe-2370728ed86c",
   "metadata": {
    "tags": []
   },
   "outputs": [],
   "source": [
    "response = ollama.generate(model=\"llama2\",\n",
    "                           images=[\"ram.png\"],\n",
    "                           prompt=\"Write a short paragraph explaining image.\")\n",
    "\n",
    "print(response[\"response\"])"
   ]
  },
  {
   "cell_type": "code",
   "execution_count": null,
   "id": "fdbbb7ea-50fc-4cec-85c5-46397388dbde",
   "metadata": {
    "tags": []
   },
   "outputs": [],
   "source": [
    "response = ollama.chat(model='llama2', messages=[\n",
    "  {\n",
    "    'role': 'user',\n",
    "    'content': 'Do you know how microsoft makes money?',\n",
    "  },\n",
    "])\n",
    "\n",
    "type(response)"
   ]
  },
  {
   "cell_type": "code",
   "execution_count": null,
   "id": "8ca0613f-1f51-46e8-9b93-b7b1dc8146f1",
   "metadata": {
    "tags": []
   },
   "outputs": [],
   "source": [
    "response.keys()\n"
   ]
  },
  {
   "cell_type": "code",
   "execution_count": null,
   "id": "423ab313-c647-4603-aadf-ee7edff5aece",
   "metadata": {
    "tags": []
   },
   "outputs": [],
   "source": [
    "response[\"message\"]"
   ]
  },
  {
   "cell_type": "code",
   "execution_count": null,
   "id": "f5528da1-f81d-4a7a-aeb6-63df17ceea52",
   "metadata": {
    "tags": []
   },
   "outputs": [],
   "source": [
    "final_response = response[\"message\"][\"content\"]\n",
    "\n",
    "print(final_response)"
   ]
  },
  {
   "cell_type": "code",
   "execution_count": null,
   "id": "2148ce1a-0587-477a-b771-99090e5a78ec",
   "metadata": {
    "tags": []
   },
   "outputs": [],
   "source": [
    "response = ollama.chat(model='llama2', messages=[\n",
    "  {\n",
    "    'role': 'user',\n",
    "    'content': 'Do you know how Microsoft makes money?',  \n",
    "  },\n",
    "    {\n",
    "        'role': 'assistant',\n",
    "        'content': final_response,\n",
    "    },\n",
    "    {\n",
    "        'role': 'user',\n",
    "        'content': 'Can you please paraphrase your previous reply?',\n",
    "    }\n",
    "    \n",
    "])\n",
    "\n",
    "print(response[\"message\"][\"content\"])"
   ]
  },
  {
   "cell_type": "code",
   "execution_count": null,
   "id": "6492cdeb-e43a-4a88-bdc7-6e0164b8e290",
   "metadata": {
    "tags": []
   },
   "outputs": [],
   "source": [
    "response = ollama.chat(model='llama2', messages=[\n",
    "    {\n",
    "    'role': 'system',\n",
    "    'content': 'Act as if you are small business owner.',\n",
    "  },\n",
    "  {\n",
    "    'role': 'user',\n",
    "    'content': 'Do you know how Microsoft makes money?',\n",
    "  },\n",
    "])\n",
    "\n",
    "print(response[\"message\"][\"content\"])"
   ]
  },
  {
   "cell_type": "code",
   "execution_count": null,
   "id": "6d1e3261-0d21-4f72-aa60-6bfff9bf9709",
   "metadata": {},
   "outputs": [],
   "source": []
  }
 ],
 "metadata": {
  "kernelspec": {
   "display_name": "Python 3 (ipykernel)",
   "language": "python",
   "name": "python3"
  },
  "language_info": {
   "codemirror_mode": {
    "name": "ipython",
    "version": 3
   },
   "file_extension": ".py",
   "mimetype": "text/x-python",
   "name": "python",
   "nbconvert_exporter": "python",
   "pygments_lexer": "ipython3",
   "version": "3.11.5"
  }
 },
 "nbformat": 4,
 "nbformat_minor": 5
}
